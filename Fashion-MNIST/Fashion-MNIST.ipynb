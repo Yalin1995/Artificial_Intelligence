{
 "cells": [
  {
   "cell_type": "markdown",
   "metadata": {},
   "source": [
    "# Classify Fashion-MNIST with a simple CNN in Keras"
   ]
  },
  {
   "cell_type": "markdown",
   "metadata": {},
   "source": [
    "## Download the fashion_mnist data"
   ]
  },
  {
   "cell_type": "code",
   "execution_count": 1,
   "metadata": {},
   "outputs": [
    {
     "name": "stdout",
     "output_type": "stream",
     "text": [
      "X_train Shape : (60000, 28, 28) Y_train Shape : (60000,)\n"
     ]
    }
   ],
   "source": [
    "import tensorflow as tf\n",
    "import numpy as np \n",
    "import matplotlib.pyplot  as plt\n",
    "\n",
    "# Loding the fashion-mnist pre-shuffled training data and testing data\n",
    "(x_train,y_train),(x_test,y_test) = tf.keras.datasets.fashion_mnist.load_data()\n",
    "\n",
    "print(\"X_train Shape : {} Y_train Shape : {}\".format(x_train.shape,y_train.shape))"
   ]
  },
  {
   "cell_type": "markdown",
   "metadata": {},
   "source": [
    "### Visualize the data"
   ]
  },
  {
   "cell_type": "code",
   "execution_count": 2,
   "metadata": {},
   "outputs": [
    {
     "name": "stdout",
     "output_type": "stream",
     "text": [
      "y = 1 Trouser\n"
     ]
    },
    {
     "data": {
      "text/plain": [
       "<matplotlib.image.AxesImage at 0x26298e56388>"
      ]
     },
     "execution_count": 2,
     "metadata": {},
     "output_type": "execute_result"
    },
    {
     "data": {
      "image/png": "[encoded data removed]",
      "text/plain": [
       "<Figure size 432x288 with 1 Axes>"
      ]
     },
     "metadata": {
      "needs_background": "light"
     },
     "output_type": "display_data"
    }
   ],
   "source": [
    "import random\n",
    "\n",
    "# Show one of the images from the training dataset\n",
    "img_index = random.randrange(0,60000)\n",
    "\n",
    "# Define the text labels\n",
    "fashion_mnist_labels = [\"T-shirt/top\",  # index 0\n",
    "                        \"Trouser\",      # index 1\n",
    "                        \"Pullover\",     # index 2 \n",
    "                        \"Dress\",        # index 3 \n",
    "                        \"Coat\",         # index 4\n",
    "                        \"Sandal\",       # index 5\n",
    "                        \"Shirt\",        # index 6 \n",
    "                        \"Sneaker\",      # index 7 \n",
    "                        \"Bag\",          # index 8 \n",
    "                        \"Ankle boot\"]   # index 9\n",
    "\n",
    "label_index = y_train[img_index]\n",
    "\n",
    "print (\"y = \" + str(label_index) + \" \" + (fashion_mnist_labels[label_index]))\n",
    "\n",
    "plt.imshow(x_train[img_index])"
   ]
  },
  {
   "cell_type": "markdown",
   "metadata": {},
   "source": [
    "### Data Normalization"
   ]
  },
  {
   "cell_type": "code",
   "execution_count": 3,
   "metadata": {},
   "outputs": [],
   "source": [
    "# Do normalization\n",
    "x_train = x_train.astype('float32') / 255\n",
    "x_test = x_test.astype('float32') / 255"
   ]
  },
  {
   "cell_type": "markdown",
   "metadata": {},
   "source": [
    "## Split the data into train / validation / test data sets\n",
    "* Training data - used for training the model\n",
    "* Validation data - used for tuning the hyperparameters and evaluate the models\n",
    "* Test data - used to test the model after the model has gone through initial vetting by the validation set."
   ]
  },
  {
   "cell_type": "code",
   "execution_count": 4,
   "metadata": {},
   "outputs": [
    {
     "name": "stdout",
     "output_type": "stream",
     "text": [
      "x_train shape: (55000, 28, 28, 1) y_train shape: (55000, 10)\n",
      "55000 train set\n",
      "5000 validation set\n",
      "10000 test set\n"
     ]
    }
   ],
   "source": [
    "# Further break training data into train / validation sets (# put 5000 into validation set and keep remaining 55,000 for train)\n",
    "(x_train, x_valid) = x_train[5000:], x_train[:5000] \n",
    "(y_train, y_valid) = y_train[5000:], y_train[:5000]\n",
    "\n",
    "# Reshape input data from (28, 28) to (28, 28, 1)\n",
    "w, h = 28, 28\n",
    "x_train = x_train.reshape(x_train.shape[0], w, h, 1)\n",
    "x_valid = x_valid.reshape(x_valid.shape[0], w, h, 1)\n",
    "x_test = x_test.reshape(x_test.shape[0], w, h, 1)\n",
    "\n",
    "# One-hot encode the labels\n",
    "y_train = tf.keras.utils.to_categorical(y_train, 10)\n",
    "y_valid = tf.keras.utils.to_categorical(y_valid, 10)\n",
    "y_test = tf.keras.utils.to_categorical(y_test, 10)\n",
    "\n",
    "# Print training set shape\n",
    "print(\"x_train shape:\", x_train.shape, \"y_train shape:\", y_train.shape)\n",
    "\n",
    "# Print the number of training, validation, and test datasets\n",
    "print(x_train.shape[0], 'train set')\n",
    "print(x_valid.shape[0], 'validation set')\n",
    "print(x_test.shape[0], 'test set')"
   ]
  },
  {
   "cell_type": "markdown",
   "metadata": {},
   "source": [
    "## CNN Modeling\n",
    "#### 2 Convolutional Layer, 2 Pooling Layer, 1 Dropout Layer"
   ]
  },
  {
   "cell_type": "code",
   "execution_count": 5,
   "metadata": {},
   "outputs": [],
   "source": [
    "model = tf.keras.Sequential()\n",
    "\n",
    "# Must define the input shape in the first layer of the neural network\n",
    "model.add(tf.keras.layers.Conv2D(filters = 64, kernel_size = 2, padding = 'same', activation = 'relu',input_shape = (28,28,1)))\n",
    "model.add(tf.keras.layers.MaxPooling2D(pool_size = 2))\n",
    "model.add(tf.keras.layers.Dropout(0.3))\n",
    "\n",
    "## The second stratum\n",
    "model.add(tf.keras.layers.Conv2D(filters = 64, kernel_size = 2, padding = 'same', activation = 'relu'))\n",
    "model.add(tf.keras.layers.MaxPooling2D(pool_size = 2))\n",
    "model.add(tf.keras.layers.Dropout(0.3))\n",
    "\n",
    "## The Last layer for classification, using Softmax function to do this\n",
    "model.add(tf.keras.layers.Flatten())\n",
    "model.add(tf.keras.layers.Dense(256,activation = 'relu'))\n",
    "model.add(tf.keras.layers.Dropout(0.5))\n",
    "model.add(tf.keras.layers.Dense(10,activation = 'softmax'))"
   ]
  },
  {
   "cell_type": "code",
   "execution_count": 6,
   "metadata": {},
   "outputs": [
    {
     "name": "stdout",
     "output_type": "stream",
     "text": [
      "Model: \"sequential\"\n",
      "_________________________________________________________________\n",
      "Layer (type)                 Output Shape              Param #   \n",
      "=================================================================\n",
      "conv2d (Conv2D)              (None, 28, 28, 64)        320       \n",
      "_________________________________________________________________\n",
      "max_pooling2d (MaxPooling2D) (None, 14, 14, 64)        0         \n",
      "_________________________________________________________________\n",
      "dropout (Dropout)            (None, 14, 14, 64)        0         \n",
      "_________________________________________________________________\n",
      "conv2d_1 (Conv2D)            (None, 14, 14, 64)        16448     \n",
      "_________________________________________________________________\n",
      "max_pooling2d_1 (MaxPooling2 (None, 7, 7, 64)          0         \n",
      "_________________________________________________________________\n",
      "dropout_1 (Dropout)          (None, 7, 7, 64)          0         \n",
      "_________________________________________________________________\n",
      "flatten (Flatten)            (None, 3136)              0         \n",
      "_________________________________________________________________\n",
      "dense (Dense)                (None, 256)               803072    \n",
      "_________________________________________________________________\n",
      "dropout_2 (Dropout)          (None, 256)               0         \n",
      "_________________________________________________________________\n",
      "dense_1 (Dense)              (None, 10)                2570      \n",
      "=================================================================\n",
      "Total params: 822,410\n",
      "Trainable params: 822,410\n",
      "Non-trainable params: 0\n",
      "_________________________________________________________________\n"
     ]
    }
   ],
   "source": [
    "# Take a look at the model summary\n",
    "model.summary()"
   ]
  },
  {
   "cell_type": "markdown",
   "metadata": {},
   "source": [
    "### Model compile\n",
    "Configure the learning process with compile() API before training the model. It receives three arguments:\n",
    "\n",
    "* An optimizer\n",
    "* A loss function\n",
    "* A list of metrics"
   ]
  },
  {
   "cell_type": "code",
   "execution_count": 7,
   "metadata": {},
   "outputs": [],
   "source": [
    "model.compile(loss = 'categorical_crossentropy',optimizer = 'adam',metrics = ['accuracy'])"
   ]
  },
  {
   "cell_type": "markdown",
   "metadata": {},
   "source": [
    "### Model Training\n",
    "Now let's train the model with **fit() API**.\n",
    "\n",
    "We use the [ModelCheckpoint](https://keras.io/callbacks/#modelcheckpoint) API to save the model after every epoch. **Set \"save_best_only = True\"** to save only when the validation accuracy improves."
   ]
  },
  {
   "cell_type": "code",
   "execution_count": 8,
   "metadata": {},
   "outputs": [
    {
     "name": "stdout",
     "output_type": "stream",
     "text": [
      "Train on 55000 samples, validate on 5000 samples\n",
      "Epoch 1/20\n",
      "54976/55000 [============================>.] - ETA: 0s - loss: 0.5603 - accuracy: 0.7934\n",
      "Epoch 00001: val_loss improved from inf to 0.34912, saving model to model.weights.best.hdf5\n",
      "55000/55000 [==============================] - 25s 450us/sample - loss: 0.5603 - accuracy: 0.7934 - val_loss: 0.3491 - val_accuracy: 0.8752\n",
      "Epoch 2/20\n",
      "54976/55000 [============================>.] - ETA: 0s - loss: 0.3846 - accuracy: 0.8600\n",
      "Epoch 00002: val_loss improved from 0.34912 to 0.30580, saving model to model.weights.best.hdf5\n",
      "55000/55000 [==============================] - 24s 437us/sample - loss: 0.3846 - accuracy: 0.8600 - val_loss: 0.3058 - val_accuracy: 0.8916\n",
      "Epoch 3/20\n",
      "54976/55000 [============================>.] - ETA: 0s - loss: 0.3434 - accuracy: 0.8754\n",
      "Epoch 00003: val_loss improved from 0.30580 to 0.27548, saving model to model.weights.best.hdf5\n",
      "55000/55000 [==============================] - 25s 451us/sample - loss: 0.3434 - accuracy: 0.8753 - val_loss: 0.2755 - val_accuracy: 0.8994\n",
      "Epoch 4/20\n",
      "54976/55000 [============================>.] - ETA: 0s - loss: 0.3161 - accuracy: 0.8847\n",
      "Epoch 00004: val_loss improved from 0.27548 to 0.25979, saving model to model.weights.best.hdf5\n",
      "55000/55000 [==============================] - 24s 445us/sample - loss: 0.3161 - accuracy: 0.8847 - val_loss: 0.2598 - val_accuracy: 0.9036\n",
      "Epoch 5/20\n",
      "54976/55000 [============================>.] - ETA: 0s - loss: 0.2962 - accuracy: 0.8906\n",
      "Epoch 00005: val_loss improved from 0.25979 to 0.24854, saving model to model.weights.best.hdf5\n",
      "55000/55000 [==============================] - 23s 427us/sample - loss: 0.2961 - accuracy: 0.8906 - val_loss: 0.2485 - val_accuracy: 0.9092\n",
      "Epoch 6/20\n",
      "54912/55000 [============================>.] - ETA: 0s - loss: 0.2829 - accuracy: 0.8970\n",
      "Epoch 00006: val_loss improved from 0.24854 to 0.23018, saving model to model.weights.best.hdf5\n",
      "55000/55000 [==============================] - 23s 425us/sample - loss: 0.2828 - accuracy: 0.8969 - val_loss: 0.2302 - val_accuracy: 0.9170\n",
      "Epoch 7/20\n",
      "54976/55000 [============================>.] - ETA: 0s - loss: 0.2695 - accuracy: 0.9018\n",
      "Epoch 00007: val_loss did not improve from 0.23018\n",
      "55000/55000 [==============================] - 24s 445us/sample - loss: 0.2695 - accuracy: 0.9018 - val_loss: 0.2330 - val_accuracy: 0.9116\n",
      "Epoch 8/20\n",
      "54976/55000 [============================>.] - ETA: 0s - loss: 0.2552 - accuracy: 0.9043\n",
      "Epoch 00008: val_loss improved from 0.23018 to 0.21856, saving model to model.weights.best.hdf5\n",
      "55000/55000 [==============================] - 24s 433us/sample - loss: 0.2551 - accuracy: 0.9043 - val_loss: 0.2186 - val_accuracy: 0.9192\n",
      "Epoch 9/20\n",
      "54976/55000 [============================>.] - ETA: 0s - loss: 0.2446 - accuracy: 0.9086\n",
      "Epoch 00009: val_loss improved from 0.21856 to 0.21820, saving model to model.weights.best.hdf5\n",
      "55000/55000 [==============================] - 23s 422us/sample - loss: 0.2446 - accuracy: 0.9086 - val_loss: 0.2182 - val_accuracy: 0.9194\n",
      "Epoch 10/20\n",
      "54912/55000 [============================>.] - ETA: 0s - loss: 0.2333 - accuracy: 0.9134\n",
      "Epoch 00010: val_loss did not improve from 0.21820\n",
      "55000/55000 [==============================] - 24s 428us/sample - loss: 0.2334 - accuracy: 0.9133 - val_loss: 0.2192 - val_accuracy: 0.9180\n",
      "Epoch 11/20\n",
      "54976/55000 [============================>.] - ETA: 0s - loss: 0.2317 - accuracy: 0.9145\n",
      "Epoch 00011: val_loss improved from 0.21820 to 0.20919, saving model to model.weights.best.hdf5\n",
      "55000/55000 [==============================] - 23s 424us/sample - loss: 0.2317 - accuracy: 0.9145 - val_loss: 0.2092 - val_accuracy: 0.9194\n",
      "Epoch 12/20\n",
      "54976/55000 [============================>.] - ETA: 0s - loss: 0.2235 - accuracy: 0.9174\n",
      "Epoch 00012: val_loss did not improve from 0.20919\n",
      "55000/55000 [==============================] - 24s 427us/sample - loss: 0.2235 - accuracy: 0.9174 - val_loss: 0.2159 - val_accuracy: 0.9164\n",
      "Epoch 13/20\n",
      "54976/55000 [============================>.] - ETA: 0s - loss: 0.2178 - accuracy: 0.9190\n",
      "Epoch 00013: val_loss improved from 0.20919 to 0.20657, saving model to model.weights.best.hdf5\n",
      "55000/55000 [==============================] - 24s 438us/sample - loss: 0.2179 - accuracy: 0.9189 - val_loss: 0.2066 - val_accuracy: 0.9188\n",
      "Epoch 14/20\n",
      "54976/55000 [============================>.] - ETA: 0s - loss: 0.2150 - accuracy: 0.9200\n",
      "Epoch 00014: val_loss improved from 0.20657 to 0.20230, saving model to model.weights.best.hdf5\n",
      "55000/55000 [==============================] - 25s 447us/sample - loss: 0.2150 - accuracy: 0.9200 - val_loss: 0.2023 - val_accuracy: 0.9216\n",
      "Epoch 15/20\n",
      "54976/55000 [============================>.] - ETA: 0s - loss: 0.2054 - accuracy: 0.9236 ETA: 0s - loss: 0.2055 - accu\n",
      "Epoch 00015: val_loss did not improve from 0.20230\n",
      "55000/55000 [==============================] - 26s 468us/sample - loss: 0.2055 - accuracy: 0.9236 - val_loss: 0.2078 - val_accuracy: 0.9260\n",
      "Epoch 16/20\n",
      "54976/55000 [============================>.] - ETA: 0s - loss: 0.2055 - accuracy: 0.9225\n",
      "Epoch 00016: val_loss improved from 0.20230 to 0.19956, saving model to model.weights.best.hdf5\n",
      "55000/55000 [==============================] - 26s 471us/sample - loss: 0.2055 - accuracy: 0.9226 - val_loss: 0.1996 - val_accuracy: 0.9208\n",
      "Epoch 17/20\n",
      "54976/55000 [============================>.] - ETA: 0s - loss: 0.1959 - accuracy: 0.9269\n",
      "Epoch 00017: val_loss did not improve from 0.19956\n",
      "55000/55000 [==============================] - 26s 479us/sample - loss: 0.1960 - accuracy: 0.9269 - val_loss: 0.2122 - val_accuracy: 0.9180\n",
      "Epoch 18/20\n",
      "54976/55000 [============================>.] - ETA: 0s - loss: 0.1929 - accuracy: 0.9271\n",
      "Epoch 00018: val_loss did not improve from 0.19956\n",
      "55000/55000 [==============================] - 26s 477us/sample - loss: 0.1929 - accuracy: 0.9271 - val_loss: 0.2028 - val_accuracy: 0.9238\n",
      "Epoch 19/20\n",
      "54976/55000 [============================>.] - ETA: 0s - loss: 0.1922 - accuracy: 0.9286\n",
      "Epoch 00019: val_loss improved from 0.19956 to 0.19920, saving model to model.weights.best.hdf5\n",
      "55000/55000 [==============================] - 26s 477us/sample - loss: 0.1923 - accuracy: 0.9285 - val_loss: 0.1992 - val_accuracy: 0.9220\n",
      "Epoch 20/20\n",
      "54976/55000 [============================>.] - ETA: 0s - loss: 0.1868 - accuracy: 0.9291\n",
      "Epoch 00020: val_loss did not improve from 0.19920\n",
      "55000/55000 [==============================] - 26s 471us/sample - loss: 0.1868 - accuracy: 0.9291 - val_loss: 0.2024 - val_accuracy: 0.9286\n"
     ]
    },
    {
     "data": {
      "text/plain": [
       "<tensorflow.python.keras.callbacks.History at 0x26295da79c8>"
      ]
     },
     "execution_count": 8,
     "metadata": {},
     "output_type": "execute_result"
    }
   ],
   "source": [
    "from tensorflow.keras.callbacks import ModelCheckpoint\n",
    "\n",
    "checkpointer = ModelCheckpoint(filepath='model.weights.best.hdf5', verbose = 1, save_best_only=True)\n",
    "\n",
    "model.fit(x_train,y_train,\n",
    "         batch_size = 64, epochs = 20, validation_data = (x_valid,y_valid),\n",
    "         callbacks = [checkpointer])"
   ]
  },
  {
   "cell_type": "markdown",
   "metadata": {},
   "source": [
    "#### Load the weights with the best validation accuracy"
   ]
  },
  {
   "cell_type": "code",
   "execution_count": 9,
   "metadata": {},
   "outputs": [],
   "source": [
    "model.load_weights('model.weights.best.hdf5')"
   ]
  },
  {
   "cell_type": "markdown",
   "metadata": {},
   "source": [
    "#### Test Accuracy"
   ]
  },
  {
   "cell_type": "code",
   "execution_count": 10,
   "metadata": {},
   "outputs": [
    {
     "name": "stdout",
     "output_type": "stream",
     "text": [
      "\n",
      " Test accuracy: 0.924\n"
     ]
    }
   ],
   "source": [
    "# Evaluate the model on test set\n",
    "score = model.evaluate(x_test, y_test, verbose=0)\n",
    "\n",
    "# Print test accuracy\n",
    "print('\\n', 'Test accuracy:', score[1])"
   ]
  },
  {
   "cell_type": "markdown",
   "metadata": {},
   "source": [
    "## Visualize prediction\n",
    "\n",
    "Now let's visualize the prediction using the model we just trained. First we get the predictions with the model from the test data. Then we **print out 15 images from the test data set**, and set the titles with the prediction (and the groud truth label). If the prediction **matches the true label, the title will be green; otherwise it's displayed in red.**"
   ]
  },
  {
   "cell_type": "code",
   "execution_count": 11,
   "metadata": {},
   "outputs": [
    {
     "data": {
      "image/png": "[encoded data removed]",
      "text/plain": [
       "<Figure size 1440x576 with 15 Axes>"
      ]
     },
     "metadata": {},
     "output_type": "display_data"
    }
   ],
   "source": [
    "y_hat = model.predict(x_test)\n",
    "\n",
    "# plot a random sample of 10 test images, their predicted labels and ground truth\n",
    "figure = plt.figure(figsize = (20,8))\n",
    "\n",
    "for i,index in enumerate(np.random.choice(x_test.shape[0],size = 15, replace = False)):\n",
    "    ax = figure.add_subplot(3, 5, i+1, xticks = [], yticks = [])\n",
    "    \n",
    "    # Display each sectors\n",
    "    ax.imshow(np.squeeze(x_test[index]))\n",
    "    predict_index = np.argmax(y_hat[index])\n",
    "    true_index = np.argmax(y_test[index])\n",
    "    \n",
    "    # Set the title for each image\n",
    "    ax.set_title(\"{} ({})\".format(fashion_mnist_labels[predict_index], \n",
    "                                  fashion_mnist_labels[true_index]),\n",
    "                                  color=(\"green\" if predict_index == true_index else \"red\"))"
   ]
  },
  {
   "cell_type": "code",
   "execution_count": null,
   "metadata": {},
   "outputs": [],
   "source": []
  }
 ],
 "metadata": {
  "kernelspec": {
   "display_name": "TensorFlow(GPU)",
   "language": "python",
   "name": "tf-gpu"
  },
  "language_info": {
   "codemirror_mode": {
    "name": "ipython",
    "version": 3
   },
   "file_extension": ".py",
   "mimetype": "text/x-python",
   "name": "python",
   "nbconvert_exporter": "python",
   "pygments_lexer": "ipython3",
   "version": "3.7.6"
  }
 },
 "nbformat": 4,
 "nbformat_minor": 2
}
